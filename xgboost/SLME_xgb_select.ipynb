{
 "cells": [
  {
   "cell_type": "code",
   "execution_count": 1,
   "id": "03c21c1d",
   "metadata": {},
   "outputs": [],
   "source": [
    "import numpy as np\n",
    "import pandas as pd\n",
    "from xgboost import XGBRegressor\n",
    "\n",
    "from sklearn.model_selection import train_test_split\n",
    "from sklearn.preprocessing import StandardScaler\n",
    "from sklearn.model_selection import cross_val_score, GridSearchCV\n",
    "from sklearn import metrics\n",
    "from sklearn.ensemble import RandomForestRegressor\n",
    "from joblib import dump,load\n",
    "from sklearn.feature_selection import RFECV"
   ]
  },
  {
   "cell_type": "code",
   "execution_count": 2,
   "id": "d2422949",
   "metadata": {},
   "outputs": [
    {
     "name": "stdout",
     "output_type": "stream",
     "text": [
      "X_train's shape is (390, 10) ; y_train's shape is (390,)\n",
      "X_test's shape is (98, 10) ; y_test's shape is (98,)\n"
     ]
    }
   ],
   "source": [
    "#读数据标准化划分数据集\n",
    "df = pd.read_csv('../my_data.csv')\n",
    "X = df.iloc[:, 1:58]\n",
    "Y = df.iloc[:, 58:]\n",
    "X_to_select = ['Sn_frac', 'A_Ionic_radius', 'A/X_Ionic_radius',\n",
    " 'B/X_Ionic_radius', 'B_Ionization energy(kJ/mol)', 'X_Ionization energy(kJ/mol)',\n",
    " 'B_Electron_affinity(kJ/mol)', 'B_Valence_electrons', 'B_Heat_of_vap(kJ/mol)', \n",
    " 'B_Electronegativity']\n",
    "X=X[X_to_select]\n",
    "Y=Y['SLME @ 5um']\n",
    "names=df.columns\n",
    "names=['SHAP value of '+x for x in names]\n",
    "X_train, X_test, y_train, y_test = train_test_split(X, Y, test_size=0.2, random_state=10)\n",
    "print(\"X_train's shape is\", X_train.shape,\"; y_train's shape is\", y_train.shape)\n",
    "print(\"X_test's shape is\", X_test.shape,\"; y_test's shape is\",y_test.shape)\n",
    "scaler = StandardScaler()\n",
    "scaler.fit(X_train)\n",
    "X_train_stand = scaler.transform(X_train)\n",
    "X_test_stand = scaler.transform(X_test)"
   ]
  },
  {
   "cell_type": "code",
   "execution_count": 3,
   "id": "6cf2295c",
   "metadata": {},
   "outputs": [],
   "source": [
    "##gridsearch and cv select model##\n",
    "param_grid={ 'learning_rate': [0.01,0.05,0.1,0.15],\n",
    "              'n_estimators': [15,50,100,200],\n",
    "              'max_depth': [4,5,6,7,8],\n",
    "              'min_child_weight': [3,4,6,7],\n",
    "              'subsample': [0.7,0.8,0.9,1],\n",
    "              'colsample_bytree': [0.3,0.5,0.6,0.7],\n",
    "              'gamma': [0,0.1,0.2,0.3,0.4],\n",
    "                'reg_alpha': [0,0.1,0.2,0.3],\n",
    "                'reg_lambda': [1,2,5]\n",
    "            }"
   ]
  },
  {
   "cell_type": "code",
   "execution_count": 4,
   "id": "88190899",
   "metadata": {},
   "outputs": [
    {
     "name": "stdout",
     "output_type": "stream",
     "text": [
      "Fitting 3 folds for each of 307200 candidates, totalling 921600 fits\n"
     ]
    },
    {
     "name": "stderr",
     "output_type": "stream",
     "text": [
      "IOPub data rate exceeded.\n",
      "The notebook server will temporarily stop sending output\n",
      "to the client in order to avoid crashing it.\n",
      "To change this limit, set the config variable\n",
      "`--NotebookApp.iopub_data_rate_limit`.\n",
      "\n",
      "Current values:\n",
      "NotebookApp.iopub_data_rate_limit=1000000.0 (bytes/sec)\n",
      "NotebookApp.rate_limit_window=3.0 (secs)\n",
      "\n"
     ]
    },
    {
     "name": "stdout",
     "output_type": "stream",
     "text": [
      "        mean_fit_time  std_fit_time  mean_score_time  std_score_time  \\\n",
      "0            0.011367      0.001723         0.002004    2.809790e-06   \n",
      "1            0.008776      0.000882         0.002000    4.495664e-07   \n",
      "2            0.009001      0.000816         0.003000    1.296163e-06   \n",
      "3            0.007333      0.000472         0.001999    1.798266e-06   \n",
      "4            0.007668      0.000473         0.002335    4.712599e-04   \n",
      "...               ...           ...              ...             ...   \n",
      "307195       0.062797      0.002660         0.002502    4.096789e-04   \n",
      "307196       0.061623      0.001415         0.002668    4.713736e-04   \n",
      "307197       0.058948      0.003858         0.001669    4.703039e-04   \n",
      "307198       0.055933      0.003531         0.002011    4.101811e-04   \n",
      "307199       0.050085      0.005364         0.001842    6.281777e-04   \n",
      "\n",
      "       param_colsample_bytree param_gamma param_learning_rate param_max_depth  \\\n",
      "0                         0.3           0                0.01               4   \n",
      "1                         0.3           0                0.01               4   \n",
      "2                         0.3           0                0.01               4   \n",
      "3                         0.3           0                0.01               4   \n",
      "4                         0.3           0                0.01               4   \n",
      "...                       ...         ...                 ...             ...   \n",
      "307195                    0.7         0.4                0.15               8   \n",
      "307196                    0.7         0.4                0.15               8   \n",
      "307197                    0.7         0.4                0.15               8   \n",
      "307198                    0.7         0.4                0.15               8   \n",
      "307199                    0.7         0.4                0.15               8   \n",
      "\n",
      "       param_min_child_weight param_n_estimators  ... split1_test_score  \\\n",
      "0                           3                 15  ...         -0.379451   \n",
      "1                           3                 15  ...         -0.379414   \n",
      "2                           3                 15  ...         -0.379345   \n",
      "3                           3                 15  ...         -0.379595   \n",
      "4                           3                 15  ...         -0.380062   \n",
      "...                       ...                ...  ...               ...   \n",
      "307195                      7                200  ...         -0.055125   \n",
      "307196                      7                200  ...         -0.055079   \n",
      "307197                      7                200  ...         -0.055637   \n",
      "307198                      7                200  ...         -0.056101   \n",
      "307199                      7                200  ...         -0.055468   \n",
      "\n",
      "       split2_test_score mean_test_score std_test_score  rank_test_score  \\\n",
      "0              -0.384418       -0.377622       0.006428           289441   \n",
      "1              -0.384349       -0.377562       0.006431           289001   \n",
      "2              -0.384248       -0.377506       0.006389           288301   \n",
      "3              -0.384433       -0.377613       0.006530           289421   \n",
      "4              -0.385045       -0.378230       0.006444           297601   \n",
      "...                  ...             ...            ...              ...   \n",
      "307195         -0.049990       -0.055393       0.004525           134342   \n",
      "307196         -0.054757       -0.057160       0.003173           154818   \n",
      "307197         -0.054534       -0.057145       0.002948           154710   \n",
      "307198         -0.054128       -0.057265       0.003146           156182   \n",
      "307199         -0.050207       -0.055649       0.004520           137727   \n",
      "\n",
      "        split0_train_score  split1_train_score  split2_train_score  \\\n",
      "0                -0.381646           -0.376649           -0.374766   \n",
      "1                -0.381577           -0.376607           -0.374685   \n",
      "2                -0.381562           -0.376551           -0.374638   \n",
      "3                -0.381629           -0.376647           -0.374704   \n",
      "4                -0.382238           -0.377252           -0.375370   \n",
      "...                    ...                 ...                 ...   \n",
      "307195           -0.053935           -0.056894           -0.052530   \n",
      "307196           -0.054493           -0.056834           -0.057611   \n",
      "307197           -0.054347           -0.057284           -0.057331   \n",
      "307198           -0.054227           -0.057438           -0.057213   \n",
      "307199           -0.054166           -0.057216           -0.052899   \n",
      "\n",
      "        mean_train_score  std_train_score  \n",
      "0              -0.377687         0.002903  \n",
      "1              -0.377623         0.002904  \n",
      "2              -0.377584         0.002919  \n",
      "3              -0.377660         0.002916  \n",
      "4              -0.378287         0.002898  \n",
      "...                  ...              ...  \n",
      "307195         -0.054453         0.001819  \n",
      "307196         -0.056313         0.001325  \n",
      "307197         -0.056321         0.001396  \n",
      "307198         -0.056293         0.001463  \n",
      "307199         -0.054760         0.001812  \n",
      "\n",
      "[307200 rows x 25 columns]\n",
      "{'colsample_bytree': 0.7, 'gamma': 0, 'learning_rate': 0.15, 'max_depth': 7, 'min_child_weight': 4, 'n_estimators': 200, 'reg_alpha': 0, 'reg_lambda': 1, 'subsample': 1}\n",
      "make_scorer(mean_squared_error, greater_is_better=False, squared=False)\n",
      "-0.019886731247196806\n"
     ]
    }
   ],
   "source": [
    "xgb = XGBRegressor()\n",
    "model = GridSearchCV(estimator =xgb,scoring='neg_root_mean_squared_error', \n",
    "                     param_grid = param_grid,cv=3, verbose=3,n_jobs =-1,return_train_score=True)\n",
    "model.fit(X_train, y_train)\n",
    "print(model.cv_results_)\n",
    "dfresult=pd.DataFrame(model.cv_results_)\n",
    "dfresult.to_csv('SLME_13y32.csv')\n",
    "print(dfresult)\n",
    "print(model.best_params_)\n",
    "print(model.scorer_)\n",
    "print(model.best_score_)\n",
    "bestmodel=model.best_estimator_"
   ]
  },
  {
   "cell_type": "code",
   "execution_count": null,
   "id": "557ab148",
   "metadata": {},
   "outputs": [],
   "source": []
  }
 ],
 "metadata": {
  "kernelspec": {
   "display_name": "Python 3 (ipykernel)",
   "language": "python",
   "name": "python3"
  },
  "language_info": {
   "codemirror_mode": {
    "name": "ipython",
    "version": 3
   },
   "file_extension": ".py",
   "mimetype": "text/x-python",
   "name": "python",
   "nbconvert_exporter": "python",
   "pygments_lexer": "ipython3",
   "version": "3.7.16"
  }
 },
 "nbformat": 4,
 "nbformat_minor": 5
}
