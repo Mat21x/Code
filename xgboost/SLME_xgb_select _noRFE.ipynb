{
 "cells": [
  {
   "cell_type": "code",
   "execution_count": 1,
   "id": "03c21c1d",
   "metadata": {},
   "outputs": [],
   "source": [
    "import numpy as np\n",
    "import pandas as pd\n",
    "from xgboost import XGBRegressor\n",
    "\n",
    "from sklearn.model_selection import train_test_split\n",
    "from sklearn.preprocessing import StandardScaler\n",
    "from sklearn.model_selection import cross_val_score, GridSearchCV\n",
    "from sklearn import metrics\n",
    "from sklearn.ensemble import RandomForestRegressor\n",
    "from joblib import dump,load\n",
    "from sklearn.feature_selection import RFECV"
   ]
  },
  {
   "cell_type": "code",
   "execution_count": 2,
   "id": "d2422949",
   "metadata": {},
   "outputs": [
    {
     "name": "stdout",
     "output_type": "stream",
     "text": [
      "X_train's shape is (390, 57) ; y_train's shape is (390,)\n",
      "X_test's shape is (98, 57) ; y_test's shape is (98,)\n"
     ]
    }
   ],
   "source": [
    "#读数据标准化划分数据集\n",
    "df = pd.read_csv('../my_data.csv')\n",
    "X = df.iloc[:, 1:58]\n",
    "Y = df.iloc[:, 58:]\n",
    "Y=Y['SLME @ 5um']\n",
    "names=df.columns\n",
    "names=['SHAP value of '+x for x in names]\n",
    "X_train, X_test, y_train, y_test = train_test_split(X, Y, test_size=0.2, random_state=20)\n",
    "print(\"X_train's shape is\", X_train.shape,\"; y_train's shape is\", y_train.shape)\n",
    "print(\"X_test's shape is\", X_test.shape,\"; y_test's shape is\",y_test.shape)\n",
    "scaler = StandardScaler()\n",
    "scaler.fit(X_train)\n",
    "X_train_stand = scaler.transform(X_train)\n",
    "X_test_stand = scaler.transform(X_test)"
   ]
  },
  {
   "cell_type": "code",
   "execution_count": 3,
   "id": "6cf2295c",
   "metadata": {},
   "outputs": [],
   "source": [
    "##gridsearch and cv select model##\n",
    "param_grid={ 'learning_rate': [0.01,0.05,0.1,0.15,0.20],\n",
    "              'n_estimators': [15,50,100,200],\n",
    "              'max_depth': [4,5,6,7,8,9],\n",
    "              'min_child_weight': [3,4,6,7],\n",
    "              'subsample': [0.7,0.8,0.9,1],\n",
    "              'colsample_bytree': [0.3,0.5,0.6,0.7],\n",
    "              'gamma': [0,0.1,0.2,0.3,0.4],\n",
    "                'reg_alpha': [0,0.1,0.2,0.3],\n",
    "                'reg_lambda': [1,2,5]\n",
    "            }"
   ]
  },
  {
   "cell_type": "code",
   "execution_count": 4,
   "id": "88190899",
   "metadata": {},
   "outputs": [
    {
     "name": "stdout",
     "output_type": "stream",
     "text": [
      "Fitting 5 folds for each of 460800 candidates, totalling 2304000 fits\n"
     ]
    },
    {
     "name": "stderr",
     "output_type": "stream",
     "text": [
      "IOPub data rate exceeded.\n",
      "The notebook server will temporarily stop sending output\n",
      "to the client in order to avoid crashing it.\n",
      "To change this limit, set the config variable\n",
      "`--NotebookApp.iopub_data_rate_limit`.\n",
      "\n",
      "Current values:\n",
      "NotebookApp.iopub_data_rate_limit=1000000.0 (bytes/sec)\n",
      "NotebookApp.rate_limit_window=3.0 (secs)\n",
      "\n"
     ]
    },
    {
     "name": "stdout",
     "output_type": "stream",
     "text": [
      "        mean_fit_time  std_fit_time  mean_score_time  std_score_time  \\\n",
      "0            0.015032      0.001650         0.003302        0.000401   \n",
      "1            0.019354      0.002527         0.004901        0.000918   \n",
      "2            0.019428      0.003953         0.004307        0.000680   \n",
      "3            0.017841      0.000727         0.004298        0.000405   \n",
      "4            0.016973      0.001090         0.003910        0.001325   \n",
      "...               ...           ...              ...             ...   \n",
      "460795       0.203510      0.015383         0.003710        0.000984   \n",
      "460796       0.172845      0.008254         0.003805        0.000514   \n",
      "460797       0.177459      0.006287         0.003302        0.000870   \n",
      "460798       0.184563      0.011498         0.003229        0.000692   \n",
      "460799       0.178097      0.003873         0.003312        0.000395   \n",
      "\n",
      "       param_colsample_bytree param_gamma param_learning_rate param_max_depth  \\\n",
      "0                         0.3           0                0.01               4   \n",
      "1                         0.3           0                0.01               4   \n",
      "2                         0.3           0                0.01               4   \n",
      "3                         0.3           0                0.01               4   \n",
      "4                         0.3           0                0.01               4   \n",
      "...                       ...         ...                 ...             ...   \n",
      "460795                    0.7         0.4                 0.2               9   \n",
      "460796                    0.7         0.4                 0.2               9   \n",
      "460797                    0.7         0.4                 0.2               9   \n",
      "460798                    0.7         0.4                 0.2               9   \n",
      "460799                    0.7         0.4                 0.2               9   \n",
      "\n",
      "       param_min_child_weight param_n_estimators  ... mean_test_score  \\\n",
      "0                           3                 15  ...       -0.376342   \n",
      "1                           3                 15  ...       -0.376273   \n",
      "2                           3                 15  ...       -0.376181   \n",
      "3                           3                 15  ...       -0.376105   \n",
      "4                           3                 15  ...       -0.376886   \n",
      "...                       ...                ...  ...             ...   \n",
      "460795                      7                200  ...       -0.051719   \n",
      "460796                      7                200  ...       -0.051819   \n",
      "460797                      7                200  ...       -0.051812   \n",
      "460798                      7                200  ...       -0.051652   \n",
      "460799                      7                200  ...       -0.052192   \n",
      "\n",
      "       std_test_score rank_test_score split0_train_score  split1_train_score  \\\n",
      "0            0.006084          442681          -0.376743           -0.376401   \n",
      "1            0.006062          441433          -0.376657           -0.376296   \n",
      "2            0.006026          439849          -0.376615           -0.376254   \n",
      "3            0.006029          438913          -0.376544           -0.376156   \n",
      "4            0.006089          450937          -0.377278           -0.376933   \n",
      "...               ...             ...                ...                 ...   \n",
      "460795       0.001775          237212          -0.051131           -0.050532   \n",
      "460796       0.001868          240368          -0.051910           -0.050913   \n",
      "460797       0.001942          240187          -0.051725           -0.050719   \n",
      "460798       0.001850          235151          -0.051269           -0.050970   \n",
      "460799       0.001794          250862          -0.051621           -0.050904   \n",
      "\n",
      "        split2_train_score  split3_train_score  split4_train_score  \\\n",
      "0                -0.377239           -0.377877           -0.373746   \n",
      "1                -0.377108           -0.377731           -0.373635   \n",
      "2                -0.377036           -0.377646           -0.373578   \n",
      "3                -0.376983           -0.377590           -0.373485   \n",
      "4                -0.377758           -0.378401           -0.374302   \n",
      "...                    ...                 ...                 ...   \n",
      "460795           -0.051034           -0.051325           -0.051775   \n",
      "460796           -0.051264           -0.051793           -0.052010   \n",
      "460797           -0.051295           -0.051493           -0.051704   \n",
      "460798           -0.051335           -0.051610           -0.051953   \n",
      "460799           -0.051352           -0.051612           -0.052126   \n",
      "\n",
      "        mean_train_score  std_train_score  \n",
      "0              -0.376401         0.001417  \n",
      "1              -0.376286         0.001409  \n",
      "2              -0.376226         0.001403  \n",
      "3              -0.376152         0.001416  \n",
      "4              -0.376934         0.001406  \n",
      "...                  ...              ...  \n",
      "460795         -0.051159         0.000404  \n",
      "460796         -0.051578         0.000420  \n",
      "460797         -0.051387         0.000369  \n",
      "460798         -0.051427         0.000332  \n",
      "460799         -0.051523         0.000398  \n",
      "\n",
      "[460800 rows x 29 columns]\n",
      "{'colsample_bytree': 0.5, 'gamma': 0, 'learning_rate': 0.2, 'max_depth': 5, 'min_child_weight': 6, 'n_estimators': 100, 'reg_alpha': 0, 'reg_lambda': 1, 'subsample': 0.7}\n",
      "make_scorer(mean_squared_error, greater_is_better=False, squared=False)\n",
      "-0.017956834362252566\n"
     ]
    }
   ],
   "source": [
    "xgb = XGBRegressor()\n",
    "model = GridSearchCV(estimator =xgb,scoring='neg_root_mean_squared_error', \n",
    "                     param_grid = param_grid,cv=5, verbose=3,n_jobs =-1,return_train_score=True)\n",
    "model.fit(X_train, y_train)\n",
    "print(model.cv_results_)\n",
    "dfresult=pd.DataFrame(model.cv_results_)\n",
    "dfresult.to_csv('SLME_13y32.csv')\n",
    "print(dfresult)\n",
    "print(model.best_params_)\n",
    "print(model.scorer_)\n",
    "print(model.best_score_)\n",
    "bestmodel=model.best_estimator_"
   ]
  },
  {
   "cell_type": "code",
   "execution_count": null,
   "id": "557ab148",
   "metadata": {},
   "outputs": [],
   "source": []
  }
 ],
 "metadata": {
  "kernelspec": {
   "display_name": "Python 3 (ipykernel)",
   "language": "python",
   "name": "python3"
  },
  "language_info": {
   "codemirror_mode": {
    "name": "ipython",
    "version": 3
   },
   "file_extension": ".py",
   "mimetype": "text/x-python",
   "name": "python",
   "nbconvert_exporter": "python",
   "pygments_lexer": "ipython3",
   "version": "3.7.16"
  }
 },
 "nbformat": 4,
 "nbformat_minor": 5
}
